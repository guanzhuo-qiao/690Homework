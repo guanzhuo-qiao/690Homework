{
 "cells": [
  {
   "cell_type": "code",
   "execution_count": 1,
   "metadata": {},
   "outputs": [],
   "source": [
    "import quandl\n",
    "\n",
    "data = quandl.get(\"FMAC/FIX15YR\")"
   ]
  },
  {
   "cell_type": "markdown",
   "metadata": {},
   "source": [
    "## Question Five\n",
    "\n",
    "Data Source: https://www.quandl.com/data/FMAC/FIX15YR-15-Year-Fix-Rate\n",
    "\n",
    "Code: \"FMAC/FIX15YR\"\n",
    "\n",
    "Use the data up until 2010 to train a regression model and use the data from 2011 onwards to test the model. You should regress on the US Interest Rate Column.\n",
    "\n",
    "Describe model choices (Using Markdown Cells is Fine).\n",
    "\n",
    "Display all statistics.\n",
    "\n",
    "Display the results in a graph.  \n",
    "\n",
    "Save the model using the `Model Saving` method, include the saved model.\n",
    "\n",
    "Include all files in the `.zip` file."
   ]
  },
  {
   "cell_type": "code",
   "execution_count": 2,
   "metadata": {},
   "outputs": [],
   "source": [
    "import pandas as pd\n",
    "import tensorflow as tf\n",
    "import numpy as np\n",
    "import matplotlib.pyplot as plt\n",
    "from sklearn import preprocessing\n"
   ]
  },
  {
   "cell_type": "markdown",
   "metadata": {},
   "source": [
    "## Construct a basic DNN model\n",
    "\n",
    "First of all, we choose a bisic DNN model to fit the data in order to do this regression task. Then we seperate the daat into three parts: training set, validation set and test set. "
   ]
  },
  {
   "cell_type": "code",
   "execution_count": 3,
   "metadata": {},
   "outputs": [],
   "source": [
    "data.index = pd.to_datetime(data.index)\n",
    "data = data.dropna()"
   ]
  },
  {
   "cell_type": "code",
   "execution_count": 4,
   "metadata": {},
   "outputs": [],
   "source": [
    "data_train = data[data.index<=pd.to_datetime(\"2008-01-01\")]"
   ]
  },
  {
   "cell_type": "code",
   "execution_count": 5,
   "metadata": {},
   "outputs": [],
   "source": [
    "data_test = data[data.index>=pd.to_datetime(\"2011-01-01\")]"
   ]
  },
  {
   "cell_type": "code",
   "execution_count": 6,
   "metadata": {},
   "outputs": [],
   "source": [
    "data_val = data[(data.index<pd.to_datetime(\"2011-01-01\"))*(data.index>pd.to_datetime(\"2008-01-01\"))]"
   ]
  },
  {
   "cell_type": "code",
   "execution_count": 7,
   "metadata": {},
   "outputs": [],
   "source": [
    "#y_train = preprocessing.scale(np.asarray(data_train[\"US Interest Rate\"]))\n",
    "y_train = np.asarray(data_train[\"US Interest Rate\"])\n",
    "x_train = preprocessing.scale(np.asarray(data_train.loc[:,\"Fees & Points\":]),axis=0)\n",
    "#y_test = preprocessing.scale(np.asarray(data_test[\"US Interest Rate\"]))\n",
    "y_test = np.asarray(data_test[\"US Interest Rate\"])\n",
    "x_test = preprocessing.scale(np.asarray(data_test.loc[:,\"Fees & Points\":]),axis=0)\n",
    "#y_val = preprocessing.scale(np.asarray(data_val[\"US Interest Rate\"]))\n",
    "y_val = np.asarray(data_val[\"US Interest Rate\"])\n",
    "x_val = preprocessing.scale(np.asarray(data_val.loc[:,\"Fees & Points\":]),axis=0)"
   ]
  },
  {
   "cell_type": "markdown",
   "metadata": {},
   "source": [
    "Let's see the sequence of the label data. Our target is to fit the sequence by using the other features."
   ]
  },
  {
   "cell_type": "code",
   "execution_count": 8,
   "metadata": {},
   "outputs": [
    {
     "data": {
      "text/plain": [
       "[<matplotlib.lines.Line2D at 0x1fbad4d0d30>]"
      ]
     },
     "execution_count": 8,
     "metadata": {},
     "output_type": "execute_result"
    },
    {
     "data": {
      "image/png": "[encoded data removed]",
      "text/plain": [
       "<Figure size 432x288 with 1 Axes>"
      ]
     },
     "metadata": {
      "needs_background": "light"
     },
     "output_type": "display_data"
    }
   ],
   "source": [
    "plt.plot(y_train)"
   ]
  },
  {
   "cell_type": "markdown",
   "metadata": {},
   "source": [
    "Then we construc the tensor of the model. Note that we have 3 hidden layers and each hidden layer has a second regularization method and we use batch normalization to better fit the network."
   ]
  },
  {
   "cell_type": "code",
   "execution_count": 16,
   "metadata": {},
   "outputs": [],
   "source": [
    "model0 = tf.keras.Sequential([\n",
    "    tf.keras.layers.Dense(128, input_shape=(x_train.shape[1],)),\n",
    "    tf.keras.layers.BatchNormalization(),\n",
    "    tf.keras.layers.Dense(64, activation='relu',kernel_regularizer=tf.keras.regularizers.l2(0.02)),\n",
    "    tf.keras.layers.BatchNormalization(),\n",
    "    tf.keras.layers.Dense(32, activation='relu',kernel_regularizer=tf.keras.regularizers.l2(0.02)),\n",
    "    tf.keras.layers.BatchNormalization(),\n",
    "    tf.keras.layers.Dense(16, activation='relu',kernel_regularizer=tf.keras.regularizers.l2(0.02)),\n",
    "    tf.keras.layers.BatchNormalization(),\n",
    "    tf.keras.layers.Dense(1)\n",
    "])\n",
    "optimizer = tf.keras.optimizers.Adam(0.001)\n",
    "\n",
    "model0.compile(loss='mse',\n",
    "            optimizer=optimizer,\n",
    "            metrics=['mae', 'mse'])\n",
    "# model.compile(\n",
    "#     optimizer=tf.keras.optimizers.Adam(),\n",
    "#     loss='mean_squared_error',\n",
    "#     metrics=[tf.keras.metrics.SparseCategoricalAccuracy()]\n",
    "# )"
   ]
  },
  {
   "cell_type": "markdown",
   "metadata": {},
   "source": [
    "We fit the model using the traing data and we also add a early stopping point that make the training stop when the validation set's error goes up for last 3 steps."
   ]
  },
  {
   "cell_type": "code",
   "execution_count": 17,
   "metadata": {},
   "outputs": [
    {
     "name": "stdout",
     "output_type": "stream",
     "text": [
      "Train on 853 samples, validate on 157 samples\n",
      "Epoch 1/70\n",
      "853/853 [==============================] - 1s 1ms/sample - loss: 47.0076 - mae: 6.6068 - mse: 44.0826 - val_loss: 23.8014 - val_mae: 4.5315 - val_mse: 20.9339\n",
      "Epoch 2/70\n",
      "853/853 [==============================] - 0s 63us/sample - loss: 44.3813 - mae: 6.4405 - mse: 41.5833 - val_loss: 22.2218 - val_mae: 4.3837 - val_mse: 19.5063\n",
      "Epoch 3/70\n",
      "853/853 [==============================] - 0s 64us/sample - loss: 41.6849 - mae: 6.2413 - mse: 39.0495 - val_loss: 19.9009 - val_mae: 4.1346 - val_mse: 17.3551\n",
      "Epoch 4/70\n",
      "853/853 [==============================] - 0s 63us/sample - loss: 38.5253 - mae: 5.9988 - mse: 36.0612 - val_loss: 17.2998 - val_mae: 3.8358 - val_mse: 14.9250\n",
      "Epoch 5/70\n",
      "853/853 [==============================] - 0s 64us/sample - loss: 34.9717 - mae: 5.7094 - mse: 32.6761 - val_loss: 14.8000 - val_mae: 3.5126 - val_mse: 12.5908\n",
      "Epoch 6/70\n",
      "853/853 [==============================] - 0s 65us/sample - loss: 31.1301 - mae: 5.3751 - mse: 28.9954 - val_loss: 12.4244 - val_mae: 3.1933 - val_mse: 10.3701\n",
      "Epoch 7/70\n",
      "853/853 [==============================] - 0s 62us/sample - loss: 27.0963 - mae: 5.0015 - mse: 25.1119 - val_loss: 9.7420 - val_mae: 2.7697 - val_mse: 7.8333\n",
      "Epoch 8/70\n",
      "853/853 [==============================] - 0s 63us/sample - loss: 23.0270 - mae: 4.5950 - mse: 21.1845 - val_loss: 7.6333 - val_mae: 2.3912 - val_mse: 5.8624\n",
      "Epoch 9/70\n",
      "853/853 [==============================] - 0s 64us/sample - loss: 19.0968 - mae: 4.1617 - mse: 17.3878 - val_loss: 5.4294 - val_mae: 1.9123 - val_mse: 3.7873\n",
      "Epoch 10/70\n",
      "853/853 [==============================] - 0s 63us/sample - loss: 15.4323 - mae: 3.7119 - mse: 13.8471 - val_loss: 3.6990 - val_mae: 1.4292 - val_mse: 2.1751\n",
      "Epoch 11/70\n",
      "853/853 [==============================] - 0s 62us/sample - loss: 12.1640 - mae: 3.2563 - mse: 10.6929 - val_loss: 2.6146 - val_mae: 1.0177 - val_mse: 1.2001\n",
      "Epoch 12/70\n",
      "853/853 [==============================] - 0s 64us/sample - loss: 9.3124 - mae: 2.8035 - mse: 7.9460 - val_loss: 1.7314 - val_mae: 0.5723 - val_mse: 0.4169\n",
      "Epoch 13/70\n",
      "853/853 [==============================] - 0s 62us/sample - loss: 6.9683 - mae: 2.3655 - mse: 5.6984 - val_loss: 1.3632 - val_mae: 0.3085 - val_mse: 0.1414\n",
      "Epoch 14/70\n",
      "853/853 [==============================] - 0s 61us/sample - loss: 5.1149 - mae: 1.9621 - mse: 3.9347 - val_loss: 1.4268 - val_mae: 0.3893 - val_mse: 0.2905\n",
      "Epoch 15/70\n",
      "853/853 [==============================] - 0s 64us/sample - loss: 3.7012 - mae: 1.5868 - mse: 2.6016 - val_loss: 1.8045 - val_mae: 0.7543 - val_mse: 0.7451\n",
      "Epoch 16/70\n",
      "853/853 [==============================] - 0s 62us/sample - loss: 2.6850 - mae: 1.2534 - mse: 1.6609 - val_loss: 2.2484 - val_mae: 1.0437 - val_mse: 1.2626\n"
     ]
    }
   ],
   "source": [
    "early_stop = tf.keras.callbacks.EarlyStopping(monitor='val_loss', patience=3)\n",
    "history = model0.fit(\n",
    "    x_train,y_train,\n",
    "    validation_data =(x_val,y_val),\n",
    "    epochs=70,\n",
    "    callbacks=[early_stop]\n",
    ")"
   ]
  },
  {
   "cell_type": "code",
   "execution_count": 18,
   "metadata": {},
   "outputs": [
    {
     "data": {
      "text/plain": [
       "<matplotlib.legend.Legend at 0x1fbb4e6eda0>"
      ]
     },
     "execution_count": 18,
     "metadata": {},
     "output_type": "execute_result"
    },
    {
     "data": {
      "image/png": "[encoded data removed]",
      "text/plain": [
       "<Figure size 432x288 with 1 Axes>"
      ]
     },
     "metadata": {
      "needs_background": "light"
     },
     "output_type": "display_data"
    }
   ],
   "source": [
    "plt.plot(history.history[\"loss\"],label=\"loss\")\n",
    "plt.plot(history.history[\"val_loss\"],label=\"val_loss\")\n",
    "plt.legend()"
   ]
  },
  {
   "cell_type": "markdown",
   "metadata": {},
   "source": [
    "We compute the statistics of this model and plot the prediction data and real data."
   ]
  },
  {
   "cell_type": "code",
   "execution_count": 19,
   "metadata": {},
   "outputs": [
    {
     "name": "stdout",
     "output_type": "stream",
     "text": [
      "261/1 - 0s - loss: 6.0873 - mae: 2.3739 - mse: 5.8160\n",
      "Testing set Mean Abs Error:  2.37 MPG\n"
     ]
    }
   ],
   "source": [
    "loss, mae, mse = model0.evaluate(x_test, y_test, verbose=2)\n",
    "\n",
    "print(\"Testing set Mean Abs Error: {:5.2f} MPG\".format(mae))"
   ]
  },
  {
   "cell_type": "code",
   "execution_count": 20,
   "metadata": {},
   "outputs": [
    {
     "data": {
      "image/png": "[encoded data removed]",
      "text/plain": [
       "<Figure size 432x288 with 1 Axes>"
      ]
     },
     "metadata": {
      "needs_background": "light"
     },
     "output_type": "display_data"
    }
   ],
   "source": [
    "test_predictions = model0.predict(x_test).flatten()\n",
    "\n",
    "a = plt.axes(aspect='equal')\n",
    "plt.scatter(y_test, test_predictions)\n",
    "plt.xlabel('True Values [MPG]')\n",
    "plt.ylabel('Predictions [MPG]')\n",
    "lims = [0, 9]\n",
    "plt.xlim(lims)\n",
    "plt.ylim(lims)\n",
    "_ = plt.plot(lims, lims)"
   ]
  },
  {
   "cell_type": "markdown",
   "metadata": {},
   "source": [
    "As we can see, the test set's mse and mae are both higher than the validation set in the model fitting process which make sence. And our prediction are relatively higher than the real number. Although we tried different method to modify the model, we still can't reach the deal results.\n"
   ]
  },
  {
   "cell_type": "markdown",
   "metadata": {},
   "source": [
    "## Construct a RNN model\n",
    "\n",
    "This time we try to use the LSTM model to fit this data since it's time seriers. RNN can better handle the time seriers data and we try to construct a one time lag dataset to do this. Our features are all the columns in the original data set and our label is the next time's \"US Interest Rate\"."
   ]
  },
  {
   "cell_type": "code",
   "execution_count": 31,
   "metadata": {},
   "outputs": [],
   "source": [
    "data2 = quandl.get(\"FMAC/FIX15YR\")\n",
    "data2 = data2.dropna()\n"
   ]
  },
  {
   "cell_type": "code",
   "execution_count": 80,
   "metadata": {},
   "outputs": [],
   "source": [
    "data_new = pd.concat([data2.iloc[:,0].shift(-1),data2.iloc[:,:]],axis=1)"
   ]
  },
  {
   "cell_type": "code",
   "execution_count": 81,
   "metadata": {},
   "outputs": [],
   "source": [
    "data_new = data_new.iloc[:-1,:]"
   ]
  },
  {
   "cell_type": "code",
   "execution_count": 82,
   "metadata": {},
   "outputs": [],
   "source": [
    "data_new.columns = [data_new.columns[0]+\" t+1\"]+list(data_new.columns[1:])"
   ]
  },
  {
   "cell_type": "code",
   "execution_count": 83,
   "metadata": {},
   "outputs": [],
   "source": [
    "scaler = preprocessing.StandardScaler()"
   ]
  },
  {
   "cell_type": "code",
   "execution_count": 84,
   "metadata": {},
   "outputs": [],
   "source": [
    "train = scaler.fit_transform(np.asarray(data_new[data_new.index<=pd.to_datetime(\"2010-12-31\")]))\n",
    "test = scaler.fit_transform(np.asarray(data_new[data_new.index>=pd.to_datetime(\"2011-01-01\")]))"
   ]
  },
  {
   "cell_type": "code",
   "execution_count": 85,
   "metadata": {},
   "outputs": [
    {
     "name": "stdout",
     "output_type": "stream",
     "text": [
      "(1010, 1, 12) (1010,) (260, 1, 12) (260,)\n",
      "Train on 1010 samples, validate on 260 samples\n",
      "Epoch 1/50\n",
      "1010/1010 - 2s - loss: 0.8665 - mae: 0.8665 - mse: 1.1195 - val_loss: 0.7088 - val_mae: 0.7088 - val_mse: 0.9135\n",
      "Epoch 2/50\n",
      "1010/1010 - 0s - loss: 0.5967 - mae: 0.5967 - mse: 0.5812 - val_loss: 0.6157 - val_mae: 0.6157 - val_mse: 0.6571\n",
      "Epoch 3/50\n",
      "1010/1010 - 0s - loss: 0.4158 - mae: 0.4158 - mse: 0.2882 - val_loss: 0.5466 - val_mae: 0.5466 - val_mse: 0.4835\n",
      "Epoch 4/50\n",
      "1010/1010 - 0s - loss: 0.3185 - mae: 0.3185 - mse: 0.1568 - val_loss: 0.4798 - val_mae: 0.4798 - val_mse: 0.3633\n",
      "Epoch 5/50\n",
      "1010/1010 - 0s - loss: 0.2671 - mae: 0.2671 - mse: 0.1051 - val_loss: 0.4100 - val_mae: 0.4100 - val_mse: 0.2715\n",
      "Epoch 6/50\n",
      "1010/1010 - 0s - loss: 0.2255 - mae: 0.2255 - mse: 0.0752 - val_loss: 0.3367 - val_mae: 0.3367 - val_mse: 0.1989\n",
      "Epoch 7/50\n",
      "1010/1010 - 0s - loss: 0.1809 - mae: 0.1809 - mse: 0.0510 - val_loss: 0.2723 - val_mae: 0.2723 - val_mse: 0.1461\n",
      "Epoch 8/50\n",
      "1010/1010 - 0s - loss: 0.1393 - mae: 0.1393 - mse: 0.0344 - val_loss: 0.2258 - val_mae: 0.2258 - val_mse: 0.1124\n",
      "Epoch 9/50\n",
      "1010/1010 - 0s - loss: 0.1147 - mae: 0.1147 - mse: 0.0255 - val_loss: 0.2012 - val_mae: 0.2012 - val_mse: 0.0946\n",
      "Epoch 10/50\n",
      "1010/1010 - 0s - loss: 0.1069 - mae: 0.1069 - mse: 0.0213 - val_loss: 0.1892 - val_mae: 0.1892 - val_mse: 0.0842\n",
      "Epoch 11/50\n",
      "1010/1010 - 0s - loss: 0.0981 - mae: 0.0981 - mse: 0.0173 - val_loss: 0.1800 - val_mae: 0.1800 - val_mse: 0.0750\n",
      "Epoch 12/50\n",
      "1010/1010 - 0s - loss: 0.0958 - mae: 0.0958 - mse: 0.0158 - val_loss: 0.1770 - val_mae: 0.1770 - val_mse: 0.0723\n",
      "Epoch 13/50\n",
      "1010/1010 - 0s - loss: 0.0870 - mae: 0.0870 - mse: 0.0135 - val_loss: 0.1722 - val_mae: 0.1722 - val_mse: 0.0663\n",
      "Epoch 14/50\n",
      "1010/1010 - 0s - loss: 0.0888 - mae: 0.0888 - mse: 0.0135 - val_loss: 0.1797 - val_mae: 0.1797 - val_mse: 0.0699\n",
      "Epoch 15/50\n",
      "1010/1010 - 0s - loss: 0.0819 - mae: 0.0819 - mse: 0.0121 - val_loss: 0.1694 - val_mae: 0.1694 - val_mse: 0.0614\n",
      "Epoch 16/50\n",
      "1010/1010 - 0s - loss: 0.0858 - mae: 0.0858 - mse: 0.0126 - val_loss: 0.1842 - val_mae: 0.1842 - val_mse: 0.0710\n",
      "Epoch 17/50\n",
      "1010/1010 - 0s - loss: 0.0812 - mae: 0.0812 - mse: 0.0120 - val_loss: 0.1695 - val_mae: 0.1695 - val_mse: 0.0597\n",
      "Epoch 18/50\n",
      "1010/1010 - 0s - loss: 0.0841 - mae: 0.0841 - mse: 0.0123 - val_loss: 0.1889 - val_mae: 0.1889 - val_mse: 0.0736\n",
      "Epoch 19/50\n",
      "1010/1010 - 0s - loss: 0.0819 - mae: 0.0819 - mse: 0.0124 - val_loss: 0.1700 - val_mae: 0.1700 - val_mse: 0.0593\n",
      "Epoch 20/50\n",
      "1010/1010 - 0s - loss: 0.0864 - mae: 0.0864 - mse: 0.0129 - val_loss: 0.1929 - val_mae: 0.1929 - val_mse: 0.0761\n",
      "Epoch 21/50\n",
      "1010/1010 - 0s - loss: 0.0847 - mae: 0.0847 - mse: 0.0132 - val_loss: 0.1698 - val_mae: 0.1698 - val_mse: 0.0587\n",
      "Epoch 22/50\n",
      "1010/1010 - 0s - loss: 0.0891 - mae: 0.0891 - mse: 0.0136 - val_loss: 0.1920 - val_mae: 0.1920 - val_mse: 0.0756\n",
      "Epoch 23/50\n",
      "1010/1010 - 0s - loss: 0.0937 - mae: 0.0937 - mse: 0.0151 - val_loss: 0.1623 - val_mae: 0.1623 - val_mse: 0.0546\n",
      "Epoch 24/50\n",
      "1010/1010 - 0s - loss: 0.0968 - mae: 0.0968 - mse: 0.0156 - val_loss: 0.1889 - val_mae: 0.1889 - val_mse: 0.0745\n",
      "Epoch 25/50\n",
      "1010/1010 - 0s - loss: 0.0862 - mae: 0.0862 - mse: 0.0138 - val_loss: 0.1685 - val_mae: 0.1685 - val_mse: 0.0578\n",
      "Epoch 26/50\n",
      "1010/1010 - 0s - loss: 0.0856 - mae: 0.0856 - mse: 0.0127 - val_loss: 0.1889 - val_mae: 0.1889 - val_mse: 0.0726\n",
      "Epoch 27/50\n",
      "1010/1010 - 0s - loss: 0.0914 - mae: 0.0914 - mse: 0.0143 - val_loss: 0.1616 - val_mae: 0.1616 - val_mse: 0.0540\n",
      "Epoch 28/50\n",
      "1010/1010 - 0s - loss: 0.0940 - mae: 0.0940 - mse: 0.0148 - val_loss: 0.1859 - val_mae: 0.1859 - val_mse: 0.0722\n",
      "Epoch 29/50\n",
      "1010/1010 - 0s - loss: 0.0943 - mae: 0.0943 - mse: 0.0155 - val_loss: 0.1597 - val_mae: 0.1597 - val_mse: 0.0528\n",
      "Epoch 30/50\n",
      "1010/1010 - 0s - loss: 0.0918 - mae: 0.0918 - mse: 0.0142 - val_loss: 0.1836 - val_mae: 0.1836 - val_mse: 0.0701\n",
      "Epoch 31/50\n",
      "1010/1010 - 0s - loss: 0.0825 - mae: 0.0825 - mse: 0.0127 - val_loss: 0.1678 - val_mae: 0.1678 - val_mse: 0.0573\n",
      "Epoch 32/50\n",
      "1010/1010 - 0s - loss: 0.0852 - mae: 0.0852 - mse: 0.0125 - val_loss: 0.1847 - val_mae: 0.1847 - val_mse: 0.0686\n",
      "Epoch 33/50\n",
      "1010/1010 - 0s - loss: 0.0897 - mae: 0.0897 - mse: 0.0136 - val_loss: 0.1608 - val_mae: 0.1608 - val_mse: 0.0531\n",
      "Epoch 34/50\n",
      "1010/1010 - 0s - loss: 0.0916 - mae: 0.0916 - mse: 0.0141 - val_loss: 0.1839 - val_mae: 0.1839 - val_mse: 0.0695\n",
      "Epoch 35/50\n",
      "1010/1010 - 0s - loss: 0.0928 - mae: 0.0928 - mse: 0.0149 - val_loss: 0.1596 - val_mae: 0.1596 - val_mse: 0.0523\n",
      "Epoch 36/50\n",
      "1010/1010 - 0s - loss: 0.0890 - mae: 0.0890 - mse: 0.0134 - val_loss: 0.1829 - val_mae: 0.1829 - val_mse: 0.0685\n",
      "Epoch 37/50\n",
      "1010/1010 - 0s - loss: 0.0819 - mae: 0.0819 - mse: 0.0124 - val_loss: 0.1664 - val_mae: 0.1664 - val_mse: 0.0556\n",
      "Epoch 38/50\n",
      "1010/1010 - 0s - loss: 0.0849 - mae: 0.0849 - mse: 0.0124 - val_loss: 0.1850 - val_mae: 0.1850 - val_mse: 0.0684\n",
      "Epoch 39/50\n",
      "1010/1010 - 0s - loss: 0.0889 - mae: 0.0889 - mse: 0.0135 - val_loss: 0.1604 - val_mae: 0.1604 - val_mse: 0.0522\n",
      "Epoch 40/50\n",
      "1010/1010 - 0s - loss: 0.0908 - mae: 0.0908 - mse: 0.0139 - val_loss: 0.1831 - val_mae: 0.1831 - val_mse: 0.0687\n",
      "Epoch 41/50\n",
      "1010/1010 - 0s - loss: 0.0920 - mae: 0.0920 - mse: 0.0147 - val_loss: 0.1589 - val_mae: 0.1589 - val_mse: 0.0515\n",
      "Epoch 42/50\n",
      "1010/1010 - 0s - loss: 0.0887 - mae: 0.0887 - mse: 0.0133 - val_loss: 0.1814 - val_mae: 0.1814 - val_mse: 0.0671\n",
      "Epoch 43/50\n",
      "1010/1010 - 0s - loss: 0.0811 - mae: 0.0811 - mse: 0.0122 - val_loss: 0.1660 - val_mae: 0.1660 - val_mse: 0.0551\n",
      "Epoch 44/50\n",
      "1010/1010 - 0s - loss: 0.0844 - mae: 0.0844 - mse: 0.0123 - val_loss: 0.1827 - val_mae: 0.1827 - val_mse: 0.0664\n",
      "Epoch 45/50\n",
      "1010/1010 - 0s - loss: 0.0889 - mae: 0.0889 - mse: 0.0134 - val_loss: 0.1600 - val_mae: 0.1600 - val_mse: 0.0519\n",
      "Epoch 46/50\n",
      "1010/1010 - 0s - loss: 0.0890 - mae: 0.0890 - mse: 0.0134 - val_loss: 0.1813 - val_mae: 0.1813 - val_mse: 0.0667\n",
      "Epoch 47/50\n",
      "1010/1010 - 0s - loss: 0.0901 - mae: 0.0901 - mse: 0.0141 - val_loss: 0.1584 - val_mae: 0.1584 - val_mse: 0.0507\n",
      "Epoch 48/50\n",
      "1010/1010 - 0s - loss: 0.0872 - mae: 0.0872 - mse: 0.0130 - val_loss: 0.1797 - val_mae: 0.1797 - val_mse: 0.0656\n",
      "Epoch 49/50\n",
      "1010/1010 - 0s - loss: 0.0898 - mae: 0.0898 - mse: 0.0140 - val_loss: 0.1580 - val_mae: 0.1580 - val_mse: 0.0505\n",
      "Epoch 50/50\n",
      "1010/1010 - 0s - loss: 0.0873 - mae: 0.0873 - mse: 0.0130 - val_loss: 0.1785 - val_mae: 0.1785 - val_mse: 0.0650\n"
     ]
    }
   ],
   "source": [
    "\n",
    "# split into input and outputs\n",
    "train_X, train_y = train[:, 1:], train[:, 0]\n",
    "test_X, test_y = test[:, 1:], test[:, 0]\n",
    "# reshape input to be 3D [samples, timesteps, features]\n",
    "train_X = train_X.reshape((train_X.shape[0], 1, train_X.shape[1]))\n",
    "test_X = test_X.reshape((test_X.shape[0], 1, test_X.shape[1]))\n",
    "print(train_X.shape, train_y.shape, test_X.shape, test_y.shape)\n",
    "\n",
    "# design network\n",
    "model = tf.keras.Sequential()\n",
    "model.add(tf.keras.layers.LSTM(50, input_shape=(train_X.shape[1], train_X.shape[2])))\n",
    "model.add(tf.keras.layers.Dense(1))\n",
    "\n",
    "model.compile(\n",
    "    loss='mae', \n",
    "    optimizer='adam',\n",
    "    metrics=['mae', 'mse']\n",
    ")\n",
    "# fit network\n",
    "history = model.fit(\n",
    "    train_X, \n",
    "    train_y, \n",
    "    epochs=50, \n",
    "    batch_size=72, \n",
    "    validation_data=(test_X, test_y), \n",
    "    verbose=2, \n",
    "    shuffle=False\n",
    ")\n"
   ]
  },
  {
   "cell_type": "code",
   "execution_count": 86,
   "metadata": {},
   "outputs": [
    {
     "data": {
      "image/png": "[encoded data removed]",
      "text/plain": [
       "<Figure size 432x288 with 1 Axes>"
      ]
     },
     "metadata": {
      "needs_background": "light"
     },
     "output_type": "display_data"
    }
   ],
   "source": [
    "# plot history\n",
    "plt.plot(history.history['loss'], label='train')\n",
    "plt.plot(history.history['val_loss'], label='test')\n",
    "plt.legend()\n",
    "plt.show()"
   ]
  },
  {
   "cell_type": "code",
   "execution_count": 87,
   "metadata": {},
   "outputs": [
    {
     "name": "stdout",
     "output_type": "stream",
     "text": [
      "260/1 - 0s - loss: 0.1108 - mae: 0.1785 - mse: 0.0650\n",
      "Testing set Mean Abs Error:  0.18 MPG\n"
     ]
    }
   ],
   "source": [
    "loss, mae, mse = model.evaluate(test_X, test_y, verbose=2)\n",
    "print(\"Testing set Mean Abs Error: {:5.2f} MPG\".format(mae))"
   ]
  },
  {
   "cell_type": "markdown",
   "metadata": {},
   "source": [
    "The loss, mae and mse are all much smaller than the previous model. We should use this RNN model to fit the data. To better illustrate the comparison, we plot the test set data."
   ]
  },
  {
   "cell_type": "code",
   "execution_count": 88,
   "metadata": {},
   "outputs": [],
   "source": [
    "\n",
    "# make a prediction\n",
    "yhat = model.predict(test_X)\n",
    "test_X = test_X.reshape((test_X.shape[0], test_X.shape[2]))\n",
    "# invert scaling for forecast\n",
    "inv_yhat = np.concatenate((yhat, test_X[:, :]), axis=1)\n",
    "inv_yhat = scaler.inverse_transform(inv_yhat)\n",
    "inv_yhat = inv_yhat[:,0]\n",
    "# invert scaling for actual\n",
    "test_y = test_y.reshape((len(test_y), 1))\n",
    "inv_y = np.concatenate((test_y, test_X[:, :]), axis=1)\n",
    "inv_y = scaler.inverse_transform(inv_y)\n",
    "inv_y = inv_y[:,0]\n",
    "\n"
   ]
  },
  {
   "cell_type": "code",
   "execution_count": 89,
   "metadata": {},
   "outputs": [
    {
     "data": {
      "text/plain": [
       "[<matplotlib.lines.Line2D at 0x1fbb864b630>]"
      ]
     },
     "execution_count": 89,
     "metadata": {},
     "output_type": "execute_result"
    },
    {
     "data": {
      "image/png": "[encoded data removed]",
      "text/plain": [
       "<Figure size 432x288 with 1 Axes>"
      ]
     },
     "metadata": {
      "needs_background": "light"
     },
     "output_type": "display_data"
    }
   ],
   "source": [
    "\n",
    "plt.plot(inv_yhat[1:])\n",
    "plt.plot(inv_y[:-1])"
   ]
  },
  {
   "cell_type": "markdown",
   "metadata": {},
   "source": [
    "The model we use at here is much more accurate than basic DNN model.\n",
    "\n",
    "We both save the DNN and RNN model to reuse them in the future if we want."
   ]
  },
  {
   "cell_type": "code",
   "execution_count": 90,
   "metadata": {},
   "outputs": [],
   "source": [
    "model0.save(\"DNN_model.h5\")\n",
    "model.save(\"RNN_LSTM_model.h5\")"
   ]
  },
  {
   "cell_type": "code",
   "execution_count": null,
   "metadata": {},
   "outputs": [],
   "source": []
  }
 ],
 "metadata": {
  "kernelspec": {
   "display_name": "Python 3",
   "language": "python",
   "name": "python3"
  },
  "language_info": {
   "codemirror_mode": {
    "name": "ipython",
    "version": 3
   },
   "file_extension": ".py",
   "mimetype": "text/x-python",
   "name": "python",
   "nbconvert_exporter": "python",
   "pygments_lexer": "ipython3",
   "version": "3.7.3"
  }
 },
 "nbformat": 4,
 "nbformat_minor": 4
}
