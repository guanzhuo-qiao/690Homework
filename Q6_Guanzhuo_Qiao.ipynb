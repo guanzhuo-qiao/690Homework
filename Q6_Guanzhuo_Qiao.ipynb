{
 "cells": [
  {
   "cell_type": "markdown",
   "metadata": {},
   "source": [
    "# Build Autoencoder\n",
    "\n",
    "Build an autoencoder with the data provided below as training data.  \n",
    "\n",
    "For the testing data provided as part of the answer submit a list of indices from the testing data that are anamolies."
   ]
  },
  {
   "cell_type": "code",
   "execution_count": 3,
   "metadata": {},
   "outputs": [
    {
     "name": "stdout",
     "output_type": "stream",
     "text": [
      "--2019-12-06 17:57:28--  https://labs-fannie-data.s3.amazonaws.com/q6.csv\n",
      "Resolving labs-fannie-data.s3.amazonaws.com (labs-fannie-data.s3.amazonaws.com)... 52.216.96.3\n",
      "Connecting to labs-fannie-data.s3.amazonaws.com (labs-fannie-data.s3.amazonaws.com)|52.216.96.3|:443... connected.\n",
      "HTTP request sent, awaiting response... 200 OK\n",
      "Length: 9597176 (9.2M) [text/csv]\n",
      "Saving to: ‘q6.csv’\n",
      "\n",
      "q6.csv              100%[===================>]   9.15M  26.2MB/s    in 0.3s    \n",
      "\n",
      "2019-12-06 17:57:28 (26.2 MB/s) - ‘q6.csv’ saved [9597176/9597176]\n",
      "\n"
     ]
    }
   ],
   "source": [
    "!wget https://labs-fannie-data.s3.amazonaws.com/q6.csv"
   ]
  },
  {
   "cell_type": "code",
   "execution_count": 1,
   "metadata": {},
   "outputs": [],
   "source": [
    "import pandas as pd\n",
    "import numpy as np\n",
    "import tensorflow as tf\n",
    "import matplotlib.pyplot as plt\n",
    "from sklearn import preprocessing"
   ]
  },
  {
   "cell_type": "markdown",
   "metadata": {},
   "source": [
    "## Construct an autoencoder to detect the outlier\n",
    "\n",
    "We biuld a deep autoencoder to find the lower dimension representation of the data and try to use the hole model to detect the outlier. If there is a outlier, the result will perform bad interms of the mse."
   ]
  },
  {
   "cell_type": "code",
   "execution_count": 2,
   "metadata": {},
   "outputs": [],
   "source": [
    "data = pd.read_csv(\"q6.csv\",header=None)"
   ]
  },
  {
   "cell_type": "code",
   "execution_count": 3,
   "metadata": {},
   "outputs": [
    {
     "data": {
      "text/html": [
       "<div>\n",
       "<style scoped>\n",
       "    .dataframe tbody tr th:only-of-type {\n",
       "        vertical-align: middle;\n",
       "    }\n",
       "\n",
       "    .dataframe tbody tr th {\n",
       "        vertical-align: top;\n",
       "    }\n",
       "\n",
       "    .dataframe thead th {\n",
       "        text-align: right;\n",
       "    }\n",
       "</style>\n",
       "<table border=\"1\" class=\"dataframe\">\n",
       "  <thead>\n",
       "    <tr style=\"text-align: right;\">\n",
       "      <th></th>\n",
       "      <th>0</th>\n",
       "      <th>1</th>\n",
       "      <th>2</th>\n",
       "      <th>3</th>\n",
       "      <th>4</th>\n",
       "    </tr>\n",
       "  </thead>\n",
       "  <tbody>\n",
       "    <tr>\n",
       "      <th>0</th>\n",
       "      <td>0.726451</td>\n",
       "      <td>6.149826</td>\n",
       "      <td>1.472649</td>\n",
       "      <td>-1.415477</td>\n",
       "      <td>4.512565</td>\n",
       "    </tr>\n",
       "    <tr>\n",
       "      <th>1</th>\n",
       "      <td>-1.915879</td>\n",
       "      <td>5.497435</td>\n",
       "      <td>1.411244</td>\n",
       "      <td>-1.174702</td>\n",
       "      <td>8.800099</td>\n",
       "    </tr>\n",
       "    <tr>\n",
       "      <th>2</th>\n",
       "      <td>-0.308676</td>\n",
       "      <td>4.176731</td>\n",
       "      <td>1.455114</td>\n",
       "      <td>-1.510199</td>\n",
       "      <td>6.326681</td>\n",
       "    </tr>\n",
       "    <tr>\n",
       "      <th>3</th>\n",
       "      <td>1.089697</td>\n",
       "      <td>5.385993</td>\n",
       "      <td>1.644336</td>\n",
       "      <td>-0.787047</td>\n",
       "      <td>7.538189</td>\n",
       "    </tr>\n",
       "    <tr>\n",
       "      <th>4</th>\n",
       "      <td>1.766089</td>\n",
       "      <td>4.868465</td>\n",
       "      <td>1.013386</td>\n",
       "      <td>-1.068426</td>\n",
       "      <td>7.813759</td>\n",
       "    </tr>\n",
       "  </tbody>\n",
       "</table>\n",
       "</div>"
      ],
      "text/plain": [
       "          0         1         2         3         4\n",
       "0  0.726451  6.149826  1.472649 -1.415477  4.512565\n",
       "1 -1.915879  5.497435  1.411244 -1.174702  8.800099\n",
       "2 -0.308676  4.176731  1.455114 -1.510199  6.326681\n",
       "3  1.089697  5.385993  1.644336 -0.787047  7.538189\n",
       "4  1.766089  4.868465  1.013386 -1.068426  7.813759"
      ]
     },
     "execution_count": 3,
     "metadata": {},
     "output_type": "execute_result"
    }
   ],
   "source": [
    "data2 = preprocessing.scale(data,axis=0)\n",
    "data.head()"
   ]
  },
  {
   "cell_type": "code",
   "execution_count": 4,
   "metadata": {},
   "outputs": [],
   "source": [
    "def construct_encoder_decoder(data_):\n",
    "    inputs = tf.keras.Input(shape=(5,))\n",
    "    encoder_0 = tf.keras.layers.Dense(units=128, activation='tanh')(inputs)\n",
    "    encoder_1 = tf.keras.layers.Dense(units=32, activation='tanh')(encoder_0)\n",
    "    encoder_2 = tf.keras.layers.Dense(units=3, activation='tanh')(encoder_1)\n",
    "    Encoder = tf.keras.Model(\n",
    "        inputs=inputs,\n",
    "        outputs=encoder_2,\n",
    "        name=\"encoder\"\n",
    "    )\n",
    "\n",
    "    decoder_0 = tf.keras.layers.Dense(units=32, activation='tanh')(encoder_2)\n",
    "    decoder_1 = tf.keras.layers.Dense(units=128, activation='tanh')(decoder_0)\n",
    "    decoded_last = tf.keras.layers.Dense(units=5, activation='tanh')(decoder_1)\n",
    "    model = tf.keras.Model(\n",
    "        inputs=inputs, \n",
    "        outputs=decoded_last,\n",
    "        name='entire_model'\n",
    "    )\n",
    "    return model, Encoder\n",
    "\n",
    "\n"
   ]
  },
  {
   "cell_type": "code",
   "execution_count": 5,
   "metadata": {},
   "outputs": [],
   "source": [
    "entire, encoder = construct_encoder_decoder(data2)"
   ]
  },
  {
   "cell_type": "code",
   "execution_count": 6,
   "metadata": {},
   "outputs": [],
   "source": [
    "entire.compile(\n",
    "    optimizer='adam',\n",
    "    loss='mae',\n",
    "    metrics=[tf.keras.metrics.RootMeanSquaredError()]\n",
    ")"
   ]
  },
  {
   "cell_type": "markdown",
   "metadata": {},
   "source": [
    "Fit the data and get the model."
   ]
  },
  {
   "cell_type": "code",
   "execution_count": 7,
   "metadata": {},
   "outputs": [
    {
     "name": "stdout",
     "output_type": "stream",
     "text": [
      "Train on 101000 samples\n",
      "Epoch 1/100\n",
      "101000/101000 [==============================] - 1s 10us/sample - loss: 0.4513 - root_mean_squared_error: 0.7322\n",
      "Epoch 2/100\n",
      "101000/101000 [==============================] - 1s 5us/sample - loss: 0.4293 - root_mean_squared_error: 0.7185\n",
      "Epoch 3/100\n",
      "101000/101000 [==============================] - 1s 5us/sample - loss: 0.4267 - root_mean_squared_error: 0.7169\n",
      "Epoch 4/100\n",
      "101000/101000 [==============================] - 1s 5us/sample - loss: 0.4225 - root_mean_squared_error: 0.7150\n",
      "Epoch 5/100\n",
      "101000/101000 [==============================] - 1s 5us/sample - loss: 0.4190 - root_mean_squared_error: 0.7137\n",
      "Epoch 6/100\n",
      "101000/101000 [==============================] - 1s 5us/sample - loss: 0.4153 - root_mean_squared_error: 0.7116\n",
      "Epoch 7/100\n",
      "101000/101000 [==============================] - 1s 5us/sample - loss: 0.4135 - root_mean_squared_error: 0.7101\n",
      "Epoch 8/100\n",
      "101000/101000 [==============================] - 1s 5us/sample - loss: 0.4120 - root_mean_squared_error: 0.7082\n",
      "Epoch 9/100\n",
      "101000/101000 [==============================] - 1s 5us/sample - loss: 0.4095 - root_mean_squared_error: 0.7059\n",
      "Epoch 10/100\n",
      "101000/101000 [==============================] - 1s 5us/sample - loss: 0.4080 - root_mean_squared_error: 0.7045\n",
      "Epoch 11/100\n",
      "101000/101000 [==============================] - 1s 5us/sample - loss: 0.4069 - root_mean_squared_error: 0.7034\n",
      "Epoch 12/100\n",
      "101000/101000 [==============================] - 1s 5us/sample - loss: 0.4060 - root_mean_squared_error: 0.7029\n",
      "Epoch 13/100\n",
      "101000/101000 [==============================] - 1s 5us/sample - loss: 0.4061 - root_mean_squared_error: 0.7027\n",
      "Epoch 14/100\n",
      "101000/101000 [==============================] - 1s 5us/sample - loss: 0.4060 - root_mean_squared_error: 0.7026\n",
      "Epoch 15/100\n",
      "101000/101000 [==============================] - 1s 5us/sample - loss: 0.4058 - root_mean_squared_error: 0.7024\n",
      "Epoch 16/100\n",
      "101000/101000 [==============================] - 1s 5us/sample - loss: 0.4056 - root_mean_squared_error: 0.7023\n",
      "Epoch 17/100\n",
      "101000/101000 [==============================] - 1s 5us/sample - loss: 0.4056 - root_mean_squared_error: 0.7023\n",
      "Epoch 18/100\n",
      "101000/101000 [==============================] - 1s 5us/sample - loss: 0.4052 - root_mean_squared_error: 0.7020\n",
      "Epoch 19/100\n",
      "101000/101000 [==============================] - 1s 5us/sample - loss: 0.4050 - root_mean_squared_error: 0.7019\n",
      "Epoch 20/100\n",
      "101000/101000 [==============================] - 1s 5us/sample - loss: 0.4054 - root_mean_squared_error: 0.7020\n",
      "Epoch 21/100\n",
      "101000/101000 [==============================] - 1s 5us/sample - loss: 0.4052 - root_mean_squared_error: 0.7019\n",
      "Epoch 22/100\n",
      "101000/101000 [==============================] - 1s 5us/sample - loss: 0.4052 - root_mean_squared_error: 0.7018 0s - loss: 0.4044 - root_mean_squared_error: 0.69\n",
      "Epoch 23/100\n",
      "101000/101000 [==============================] - 1s 5us/sample - loss: 0.4049 - root_mean_squared_error: 0.7018\n",
      "Epoch 24/100\n",
      "101000/101000 [==============================] - 1s 5us/sample - loss: 0.4050 - root_mean_squared_error: 0.7017\n",
      "Epoch 25/100\n",
      "101000/101000 [==============================] - 1s 5us/sample - loss: 0.4051 - root_mean_squared_error: 0.7017\n",
      "Epoch 26/100\n",
      "101000/101000 [==============================] - 1s 5us/sample - loss: 0.4049 - root_mean_squared_error: 0.7017\n",
      "Epoch 27/100\n",
      "101000/101000 [==============================] - 1s 5us/sample - loss: 0.4047 - root_mean_squared_error: 0.7016\n",
      "Epoch 28/100\n",
      "101000/101000 [==============================] - 1s 5us/sample - loss: 0.4048 - root_mean_squared_error: 0.7015\n",
      "Epoch 29/100\n",
      "101000/101000 [==============================] - 1s 5us/sample - loss: 0.4046 - root_mean_squared_error: 0.7015\n",
      "Epoch 30/100\n",
      "101000/101000 [==============================] - 1s 5us/sample - loss: 0.4049 - root_mean_squared_error: 0.7015\n",
      "Epoch 31/100\n",
      "101000/101000 [==============================] - 1s 5us/sample - loss: 0.4048 - root_mean_squared_error: 0.7015\n",
      "Epoch 32/100\n",
      "101000/101000 [==============================] - 1s 5us/sample - loss: 0.4044 - root_mean_squared_error: 0.7013\n",
      "Epoch 33/100\n",
      "101000/101000 [==============================] - 1s 5us/sample - loss: 0.4045 - root_mean_squared_error: 0.7013\n",
      "Epoch 34/100\n",
      "101000/101000 [==============================] - 1s 5us/sample - loss: 0.4044 - root_mean_squared_error: 0.7014\n",
      "Epoch 35/100\n",
      "101000/101000 [==============================] - 1s 5us/sample - loss: 0.4043 - root_mean_squared_error: 0.7014\n",
      "Epoch 36/100\n",
      "101000/101000 [==============================] - 1s 5us/sample - loss: 0.4046 - root_mean_squared_error: 0.7013\n",
      "Epoch 37/100\n",
      "101000/101000 [==============================] - 1s 5us/sample - loss: 0.4045 - root_mean_squared_error: 0.7013\n",
      "Epoch 38/100\n",
      "101000/101000 [==============================] - 1s 5us/sample - loss: 0.4043 - root_mean_squared_error: 0.7012\n",
      "Epoch 39/100\n",
      "101000/101000 [==============================] - 1s 5us/sample - loss: 0.4044 - root_mean_squared_error: 0.7012\n",
      "Epoch 40/100\n",
      "101000/101000 [==============================] - 1s 5us/sample - loss: 0.4042 - root_mean_squared_error: 0.7012\n",
      "Epoch 41/100\n",
      "101000/101000 [==============================] - 1s 5us/sample - loss: 0.4041 - root_mean_squared_error: 0.7011\n",
      "Epoch 42/100\n",
      "101000/101000 [==============================] - 1s 5us/sample - loss: 0.4043 - root_mean_squared_error: 0.7011\n",
      "Epoch 43/100\n",
      "101000/101000 [==============================] - 1s 5us/sample - loss: 0.4041 - root_mean_squared_error: 0.7011\n",
      "Epoch 44/100\n",
      "101000/101000 [==============================] - 1s 5us/sample - loss: 0.4042 - root_mean_squared_error: 0.7011\n",
      "Epoch 45/100\n",
      "101000/101000 [==============================] - 1s 5us/sample - loss: 0.4040 - root_mean_squared_error: 0.7010\n",
      "Epoch 46/100\n",
      "101000/101000 [==============================] - 1s 5us/sample - loss: 0.4040 - root_mean_squared_error: 0.7010\n",
      "Epoch 47/100\n",
      "101000/101000 [==============================] - 1s 5us/sample - loss: 0.4038 - root_mean_squared_error: 0.7010\n",
      "Epoch 48/100\n",
      "101000/101000 [==============================] - 1s 5us/sample - loss: 0.4042 - root_mean_squared_error: 0.7010\n",
      "Epoch 49/100\n",
      "101000/101000 [==============================] - 1s 5us/sample - loss: 0.4037 - root_mean_squared_error: 0.7009\n",
      "Epoch 50/100\n",
      "101000/101000 [==============================] - 1s 5us/sample - loss: 0.4042 - root_mean_squared_error: 0.7010\n",
      "Epoch 51/100\n",
      "101000/101000 [==============================] - 1s 5us/sample - loss: 0.4038 - root_mean_squared_error: 0.7009\n",
      "Epoch 52/100\n",
      "101000/101000 [==============================] - 1s 5us/sample - loss: 0.4038 - root_mean_squared_error: 0.7009\n",
      "Epoch 53/100\n",
      "101000/101000 [==============================] - 1s 5us/sample - loss: 0.4039 - root_mean_squared_error: 0.7009\n",
      "Epoch 54/100\n",
      "101000/101000 [==============================] - 1s 5us/sample - loss: 0.4036 - root_mean_squared_error: 0.7009\n",
      "Epoch 55/100\n",
      "101000/101000 [==============================] - 1s 5us/sample - loss: 0.4037 - root_mean_squared_error: 0.7008\n",
      "Epoch 56/100\n",
      "101000/101000 [==============================] - 1s 5us/sample - loss: 0.4035 - root_mean_squared_error: 0.7008\n",
      "Epoch 57/100\n",
      "101000/101000 [==============================] - 1s 5us/sample - loss: 0.4037 - root_mean_squared_error: 0.7007\n",
      "Epoch 58/100\n",
      "101000/101000 [==============================] - 1s 5us/sample - loss: 0.4036 - root_mean_squared_error: 0.7008\n",
      "Epoch 59/100\n",
      "101000/101000 [==============================] - 1s 5us/sample - loss: 0.4036 - root_mean_squared_error: 0.7007\n",
      "Epoch 60/100\n",
      "101000/101000 [==============================] - 1s 5us/sample - loss: 0.4033 - root_mean_squared_error: 0.7007\n",
      "Epoch 61/100\n",
      "101000/101000 [==============================] - 1s 5us/sample - loss: 0.4036 - root_mean_squared_error: 0.7006\n",
      "Epoch 62/100\n",
      "101000/101000 [==============================] - 1s 5us/sample - loss: 0.4035 - root_mean_squared_error: 0.7007\n",
      "Epoch 63/100\n",
      "101000/101000 [==============================] - 1s 5us/sample - loss: 0.4033 - root_mean_squared_error: 0.7006\n",
      "Epoch 64/100\n",
      "101000/101000 [==============================] - 1s 5us/sample - loss: 0.4035 - root_mean_squared_error: 0.7006\n",
      "Epoch 65/100\n",
      "101000/101000 [==============================] - 1s 5us/sample - loss: 0.4033 - root_mean_squared_error: 0.7006\n",
      "Epoch 66/100\n"
     ]
    },
    {
     "name": "stdout",
     "output_type": "stream",
     "text": [
      "101000/101000 [==============================] - 1s 5us/sample - loss: 0.4033 - root_mean_squared_error: 0.7005\n",
      "Epoch 67/100\n",
      "101000/101000 [==============================] - 1s 5us/sample - loss: 0.4034 - root_mean_squared_error: 0.7005\n",
      "Epoch 68/100\n",
      "101000/101000 [==============================] - 1s 5us/sample - loss: 0.4032 - root_mean_squared_error: 0.7005\n",
      "Epoch 69/100\n",
      "101000/101000 [==============================] - 1s 5us/sample - loss: 0.4032 - root_mean_squared_error: 0.7005\n",
      "Epoch 70/100\n",
      "101000/101000 [==============================] - 1s 5us/sample - loss: 0.4032 - root_mean_squared_error: 0.7005\n",
      "Epoch 71/100\n",
      "101000/101000 [==============================] - 1s 5us/sample - loss: 0.4030 - root_mean_squared_error: 0.7004\n",
      "Epoch 72/100\n",
      "101000/101000 [==============================] - 1s 5us/sample - loss: 0.4033 - root_mean_squared_error: 0.7004\n",
      "Epoch 73/100\n",
      "101000/101000 [==============================] - 1s 5us/sample - loss: 0.4029 - root_mean_squared_error: 0.7004\n",
      "Epoch 74/100\n",
      "101000/101000 [==============================] - 1s 5us/sample - loss: 0.4031 - root_mean_squared_error: 0.7003\n",
      "Epoch 75/100\n",
      "101000/101000 [==============================] - 1s 5us/sample - loss: 0.4033 - root_mean_squared_error: 0.7003\n",
      "Epoch 76/100\n",
      "101000/101000 [==============================] - 1s 5us/sample - loss: 0.4032 - root_mean_squared_error: 0.7003\n",
      "Epoch 77/100\n",
      "101000/101000 [==============================] - 1s 5us/sample - loss: 0.4028 - root_mean_squared_error: 0.7002\n",
      "Epoch 78/100\n",
      "101000/101000 [==============================] - 1s 5us/sample - loss: 0.4032 - root_mean_squared_error: 0.7002\n",
      "Epoch 79/100\n",
      "101000/101000 [==============================] - 1s 5us/sample - loss: 0.4032 - root_mean_squared_error: 0.7001\n",
      "Epoch 80/100\n",
      "101000/101000 [==============================] - 1s 5us/sample - loss: 0.4027 - root_mean_squared_error: 0.7001\n",
      "Epoch 81/100\n",
      "101000/101000 [==============================] - 1s 5us/sample - loss: 0.4026 - root_mean_squared_error: 0.7000\n",
      "Epoch 82/100\n",
      "101000/101000 [==============================] - 1s 5us/sample - loss: 0.4028 - root_mean_squared_error: 0.6999\n",
      "Epoch 83/100\n",
      "101000/101000 [==============================] - 1s 5us/sample - loss: 0.4029 - root_mean_squared_error: 0.6999\n",
      "Epoch 84/100\n",
      "101000/101000 [==============================] - 1s 5us/sample - loss: 0.4029 - root_mean_squared_error: 0.6999\n",
      "Epoch 85/100\n",
      "101000/101000 [==============================] - 1s 5us/sample - loss: 0.4028 - root_mean_squared_error: 0.6997\n",
      "Epoch 86/100\n",
      "101000/101000 [==============================] - 1s 5us/sample - loss: 0.4025 - root_mean_squared_error: 0.6997\n",
      "Epoch 87/100\n",
      "101000/101000 [==============================] - 1s 5us/sample - loss: 0.4025 - root_mean_squared_error: 0.6995\n",
      "Epoch 88/100\n",
      "101000/101000 [==============================] - 1s 5us/sample - loss: 0.4025 - root_mean_squared_error: 0.6995\n",
      "Epoch 89/100\n",
      "101000/101000 [==============================] - 1s 5us/sample - loss: 0.4026 - root_mean_squared_error: 0.6992\n",
      "Epoch 90/100\n",
      "101000/101000 [==============================] - 1s 5us/sample - loss: 0.4024 - root_mean_squared_error: 0.6991\n",
      "Epoch 91/100\n",
      "101000/101000 [==============================] - 1s 5us/sample - loss: 0.4025 - root_mean_squared_error: 0.6987\n",
      "Epoch 92/100\n",
      "101000/101000 [==============================] - 1s 5us/sample - loss: 0.4020 - root_mean_squared_error: 0.6981\n",
      "Epoch 93/100\n",
      "101000/101000 [==============================] - 1s 5us/sample - loss: 0.4017 - root_mean_squared_error: 0.6969\n",
      "Epoch 94/100\n",
      "101000/101000 [==============================] - 1s 5us/sample - loss: 0.4001 - root_mean_squared_error: 0.6938\n",
      "Epoch 95/100\n",
      "101000/101000 [==============================] - 1s 5us/sample - loss: 0.3946 - root_mean_squared_error: 0.6822\n",
      "Epoch 96/100\n",
      "101000/101000 [==============================] - 1s 5us/sample - loss: 0.3798 - root_mean_squared_error: 0.6600\n",
      "Epoch 97/100\n",
      "101000/101000 [==============================] - 1s 5us/sample - loss: 0.3733 - root_mean_squared_error: 0.6529\n",
      "Epoch 98/100\n",
      "101000/101000 [==============================] - 1s 5us/sample - loss: 0.3711 - root_mean_squared_error: 0.6508\n",
      "Epoch 99/100\n",
      "101000/101000 [==============================] - 1s 5us/sample - loss: 0.3697 - root_mean_squared_error: 0.6496\n",
      "Epoch 100/100\n",
      "101000/101000 [==============================] - 1s 5us/sample - loss: 0.3691 - root_mean_squared_error: 0.6485\n"
     ]
    },
    {
     "data": {
      "text/plain": [
       "<tensorflow.python.keras.callbacks.History at 0x29fc010b160>"
      ]
     },
     "execution_count": 7,
     "metadata": {},
     "output_type": "execute_result"
    }
   ],
   "source": [
    "entire.fit(\n",
    "    data2, data2,\n",
    "    epochs=100, batch_size=256,\n",
    ")"
   ]
  },
  {
   "cell_type": "markdown",
   "metadata": {},
   "source": [
    "Generate the data and compare the predicted data with the original data to see the root mean square error of each data point. This rmse cna be seen as a distance between the two data and we find the 95% quantile of this distance and let it to be the threshold and give the index of those data that extends this threshold."
   ]
  },
  {
   "cell_type": "code",
   "execution_count": 16,
   "metadata": {},
   "outputs": [],
   "source": [
    "data_hat = entire.predict(data2)"
   ]
  },
  {
   "cell_type": "code",
   "execution_count": 17,
   "metadata": {},
   "outputs": [],
   "source": [
    "diff = (data_hat-data2)**2"
   ]
  },
  {
   "cell_type": "code",
   "execution_count": 18,
   "metadata": {},
   "outputs": [],
   "source": [
    "mse = np.sqrt(diff.mean(axis=1))"
   ]
  },
  {
   "cell_type": "code",
   "execution_count": 26,
   "metadata": {},
   "outputs": [],
   "source": [
    "threshold = np.quantile(mse,0.95)"
   ]
  },
  {
   "cell_type": "code",
   "execution_count": 33,
   "metadata": {},
   "outputs": [
    {
     "name": "stdout",
     "output_type": "stream",
     "text": [
      "Int64Index([  18,   40,   48,   64,   73,   95,   98,  133,  164,  176,  186,\n",
      "             192,  194,  209,  218,  233,  247,  261,  297,  353,  356,  381,\n",
      "             397,  403,  436,  466,  500,  504,  526,  537,  574,  581,  599,\n",
      "             607,  622,  649,  658,  670,  698,  707,  711,  727,  731,  747,\n",
      "             807,  828,  835,  852,  856,  871,  900,  921,  972,  998,  999,\n",
      "            1020, 1042, 1044, 1063, 1064, 1066, 1073, 1076, 1102, 1147, 1160,\n",
      "            1189, 1212, 1215, 1216, 1250, 1253, 1254, 1256, 1313, 1358, 1359,\n",
      "            1367, 1389, 1391, 1472, 1488, 1491, 1493, 1494, 1506, 1522, 1537,\n",
      "            1572, 1625, 1653, 1667, 1709, 1729, 1734, 1796, 1822, 1841, 1860,\n",
      "            1872],\n",
      "           dtype='int64')\n"
     ]
    }
   ],
   "source": [
    "result_index = data.index[mse>=threshold]\n",
    "print(result_index[:100])"
   ]
  },
  {
   "cell_type": "code",
   "execution_count": 36,
   "metadata": {},
   "outputs": [],
   "source": [
    "result_index = list(result_index)"
   ]
  },
  {
   "cell_type": "code",
   "execution_count": 37,
   "metadata": {},
   "outputs": [],
   "source": [
    "import json\n",
    "with open('outlier_index.txt', 'w') as filehandle:\n",
    "    json.dump(result_index, filehandle)"
   ]
  },
  {
   "cell_type": "code",
   "execution_count": null,
   "metadata": {},
   "outputs": [],
   "source": []
  }
 ],
 "metadata": {
  "kernelspec": {
   "display_name": "Python 3",
   "language": "python",
   "name": "python3"
  },
  "language_info": {
   "codemirror_mode": {
    "name": "ipython",
    "version": 3
   },
   "file_extension": ".py",
   "mimetype": "text/x-python",
   "name": "python",
   "nbconvert_exporter": "python",
   "pygments_lexer": "ipython3",
   "version": "3.7.3"
  }
 },
 "nbformat": 4,
 "nbformat_minor": 4
}
