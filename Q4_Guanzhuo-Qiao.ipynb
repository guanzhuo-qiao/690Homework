{
 "cells": [
  {
   "cell_type": "markdown",
   "metadata": {},
   "source": [
    "# Build a Classifier\n",
    "\n",
    "Use the data provided below to train a classifer to detect each class.  Each file is a class.\n",
    "\n",
    "First train a basic model, and then construct and train a more complex model using class_weights and dropout layers.\n",
    "\n",
    "Compare the training loss and accuracy values between the two models and discuss the results (in a Markdown Cell is fine.\n",
    "\n",
    "Include all code and the saved model files in the `zip`."
   ]
  },
  {
   "cell_type": "code",
   "execution_count": 2,
   "metadata": {},
   "outputs": [
    {
     "name": "stdout",
     "output_type": "stream",
     "text": [
      "--2019-12-08 16:42:13--  https://labs-fannie-data.s3.amazonaws.com/q4_l0.csv\n",
      "Resolving labs-fannie-data.s3.amazonaws.com (labs-fannie-data.s3.amazonaws.com)... 52.216.185.243\n",
      "Connecting to labs-fannie-data.s3.amazonaws.com (labs-fannie-data.s3.amazonaws.com)|52.216.185.243|:443... connected.\n",
      "HTTP request sent, awaiting response... 200 OK\n",
      "Length: 2353657 (2.2M) [text/csv]\n",
      "Saving to: ‘q4_l0.csv’\n",
      "\n",
      "q4_l0.csv           100%[===================>]   2.24M  --.-KB/s    in 0.1s    \n",
      "\n",
      "2019-12-08 16:42:14 (15.5 MB/s) - ‘q4_l0.csv’ saved [2353657/2353657]\n",
      "\n",
      "--2019-12-08 16:42:14--  https://labs-fannie-data.s3.amazonaws.com/q4_l1.csv\n",
      "Resolving labs-fannie-data.s3.amazonaws.com (labs-fannie-data.s3.amazonaws.com)... 52.216.185.243\n",
      "Connecting to labs-fannie-data.s3.amazonaws.com (labs-fannie-data.s3.amazonaws.com)|52.216.185.243|:443... connected.\n",
      "HTTP request sent, awaiting response... 200 OK\n",
      "Length: 949440 (927K) [text/csv]\n",
      "Saving to: ‘q4_l1.csv’\n",
      "\n",
      "q4_l1.csv           100%[===================>] 927.19K  --.-KB/s    in 0.1s    \n",
      "\n",
      "2019-12-08 16:42:14 (8.23 MB/s) - ‘q4_l1.csv’ saved [949440/949440]\n",
      "\n",
      "--2019-12-08 16:42:14--  https://labs-fannie-data.s3.amazonaws.com/q4_l2.csv\n",
      "Resolving labs-fannie-data.s3.amazonaws.com (labs-fannie-data.s3.amazonaws.com)... 52.216.185.243\n",
      "Connecting to labs-fannie-data.s3.amazonaws.com (labs-fannie-data.s3.amazonaws.com)|52.216.185.243|:443... connected.\n",
      "HTTP request sent, awaiting response... 200 OK\n",
      "Length: 177560 (173K) [text/csv]\n",
      "Saving to: ‘q4_l2.csv’\n",
      "\n",
      "q4_l2.csv           100%[===================>] 173.40K  --.-KB/s    in 0.07s   \n",
      "\n",
      "2019-12-08 16:42:15 (2.53 MB/s) - ‘q4_l2.csv’ saved [177560/177560]\n",
      "\n",
      "--2019-12-08 16:42:15--  https://labs-fannie-data.s3.amazonaws.com/q4_l3.csv\n",
      "Resolving labs-fannie-data.s3.amazonaws.com (labs-fannie-data.s3.amazonaws.com)... 52.216.185.243\n",
      "Connecting to labs-fannie-data.s3.amazonaws.com (labs-fannie-data.s3.amazonaws.com)|52.216.185.243|:443... connected.\n",
      "HTTP request sent, awaiting response... 200 OK\n",
      "Length: 2760000 (2.6M) [text/csv]\n",
      "Saving to: ‘q4_l3.csv’\n",
      "\n",
      "q4_l3.csv           100%[===================>]   2.63M  15.5MB/s    in 0.2s    \n",
      "\n",
      "2019-12-08 16:42:15 (15.5 MB/s) - ‘q4_l3.csv’ saved [2760000/2760000]\n",
      "\n"
     ]
    }
   ],
   "source": [
    "!wget https://labs-fannie-data.s3.amazonaws.com/q4_l0.csv\n",
    "!wget https://labs-fannie-data.s3.amazonaws.com/q4_l1.csv\n",
    "!wget https://labs-fannie-data.s3.amazonaws.com/q4_l2.csv\n",
    "!wget https://labs-fannie-data.s3.amazonaws.com/q4_l3.csv"
   ]
  },
  {
   "cell_type": "code",
   "execution_count": 49,
   "metadata": {},
   "outputs": [],
   "source": [
    "import pandas as pd\n",
    "import numpy as np\n",
    "import tensorflow as tf\n",
    "import matplotlib.pyplot as plt \n",
    "from tensorflow.keras.models import load_model"
   ]
  },
  {
   "cell_type": "code",
   "execution_count": 2,
   "metadata": {},
   "outputs": [],
   "source": [
    "class1 = pd.read_csv(\"https://labs-fannie-data.s3.amazonaws.com/q4_l0.csv\",header = None)\n",
    "class2 = pd.read_csv(\"https://labs-fannie-data.s3.amazonaws.com/q4_l1.csv\",header = None)\n",
    "class3 = pd.read_csv(\"https://labs-fannie-data.s3.amazonaws.com/q4_l2.csv\",header = None)\n",
    "class4 = pd.read_csv(\"https://labs-fannie-data.s3.amazonaws.com/q4_l3.csv\",header = None)\n"
   ]
  },
  {
   "cell_type": "code",
   "execution_count": 3,
   "metadata": {},
   "outputs": [],
   "source": [
    "class1[\"label\"] = [0]*len(class1) # add lables to the data\n",
    "class2[\"label\"] = [1]*len(class2)\n",
    "class3[\"label\"] = [2]*len(class3)\n",
    "class4[\"label\"] = [3]*len(class4)\n"
   ]
  },
  {
   "cell_type": "code",
   "execution_count": 4,
   "metadata": {},
   "outputs": [],
   "source": [
    "data = np.vstack([class1,class2,class3,class4])"
   ]
  },
  {
   "cell_type": "code",
   "execution_count": 5,
   "metadata": {},
   "outputs": [],
   "source": [
    "np.random.shuffle(data) # randomly rearange the data's order"
   ]
  },
  {
   "cell_type": "code",
   "execution_count": 6,
   "metadata": {},
   "outputs": [],
   "source": [
    "data = pd.DataFrame(data)"
   ]
  },
  {
   "cell_type": "code",
   "execution_count": 7,
   "metadata": {},
   "outputs": [],
   "source": [
    "# devide them into training and testing set\n",
    "prop = 0.8 \n",
    "train_num = int(prop * len(data))\n",
    "x_train = np.asarray(data.loc[:train_num,:4])\n",
    "y_train = np.asarray(data.loc[:train_num,5])\n",
    "x_test = np.asarray(data.loc[train_num:,:4])\n",
    "y_test = np.asarray(data.loc[train_num:,5])"
   ]
  },
  {
   "cell_type": "markdown",
   "metadata": {},
   "source": [
    "## Construct a benchmark model\n",
    "\n",
    "We now construct a simplest model to do this classification problem."
   ]
  },
  {
   "cell_type": "code",
   "execution_count": 35,
   "metadata": {},
   "outputs": [],
   "source": [
    "train_dataset = tf.data.Dataset.from_tensor_slices((x_train, y_train))\n",
    "test_dataset  = tf.data.Dataset.from_tensor_slices((x_test, y_test))\n",
    "\n",
    "BATCH_SIZE = 250\n",
    "SHUFFLE_BUFFER_SIZE = 100\n",
    "V = np.unique(data.loc[:,5])\n",
    "\n",
    "train_dataset = train_dataset.shuffle(SHUFFLE_BUFFER_SIZE).batch(BATCH_SIZE)\n",
    "test_dataset  = test_dataset.shuffle(SHUFFLE_BUFFER_SIZE).batch(BATCH_SIZE)"
   ]
  },
  {
   "cell_type": "code",
   "execution_count": 36,
   "metadata": {},
   "outputs": [],
   "source": [
    "model = tf.keras.Sequential([\n",
    "    tf.keras.layers.Dense(128, input_shape=(5,)),\n",
    "    tf.keras.layers.Dense(64, activation='relu'),\n",
    "    tf.keras.layers.Dense(len(V), activation='softmax')\n",
    "])\n",
    "\n",
    "model.compile(\n",
    "    optimizer=tf.keras.optimizers.Adam(),\n",
    "    loss=tf.keras.losses.SparseCategoricalCrossentropy(),\n",
    "    metrics=[tf.keras.metrics.SparseCategoricalAccuracy()]\n",
    ")\n"
   ]
  },
  {
   "cell_type": "code",
   "execution_count": 37,
   "metadata": {},
   "outputs": [
    {
     "name": "stdout",
     "output_type": "stream",
     "text": [
      "Epoch 1/20\n",
      "217/217 [==============================] - 1s 4ms/step - loss: 0.2186 - sparse_categorical_accuracy: 0.9380 - val_loss: 0.0000e+00 - val_sparse_categorical_accuracy: 0.0000e+00\n",
      "Epoch 2/20\n",
      "217/217 [==============================] - 0s 2ms/step - loss: 0.1041 - sparse_categorical_accuracy: 0.9661 - val_loss: 0.0920 - val_sparse_categorical_accuracy: 0.9679\n",
      "Epoch 3/20\n",
      "217/217 [==============================] - 0s 2ms/step - loss: 0.0911 - sparse_categorical_accuracy: 0.9696 - val_loss: 0.0835 - val_sparse_categorical_accuracy: 0.9698\n",
      "Epoch 4/20\n",
      "217/217 [==============================] - 0s 2ms/step - loss: 0.0847 - sparse_categorical_accuracy: 0.9714 - val_loss: 0.0787 - val_sparse_categorical_accuracy: 0.9716\n",
      "Epoch 5/20\n",
      "217/217 [==============================] - 0s 2ms/step - loss: 0.0805 - sparse_categorical_accuracy: 0.9727 - val_loss: 0.0745 - val_sparse_categorical_accuracy: 0.9731\n",
      "Epoch 6/20\n",
      "217/217 [==============================] - 0s 2ms/step - loss: 0.0761 - sparse_categorical_accuracy: 0.9743 - val_loss: 0.0715 - val_sparse_categorical_accuracy: 0.9737\n",
      "Epoch 7/20\n",
      "217/217 [==============================] - 0s 2ms/step - loss: 0.0727 - sparse_categorical_accuracy: 0.9755 - val_loss: 0.0694 - val_sparse_categorical_accuracy: 0.9747\n",
      "Epoch 8/20\n",
      "217/217 [==============================] - 0s 2ms/step - loss: 0.0686 - sparse_categorical_accuracy: 0.9768 - val_loss: 0.0636 - val_sparse_categorical_accuracy: 0.9766\n",
      "Epoch 9/20\n",
      "217/217 [==============================] - 0s 2ms/step - loss: 0.0659 - sparse_categorical_accuracy: 0.9774 - val_loss: 0.0590 - val_sparse_categorical_accuracy: 0.9785\n",
      "Epoch 10/20\n",
      "217/217 [==============================] - 0s 2ms/step - loss: 0.0619 - sparse_categorical_accuracy: 0.9786 - val_loss: 0.0560 - val_sparse_categorical_accuracy: 0.9802\n",
      "Epoch 11/20\n",
      "217/217 [==============================] - 0s 2ms/step - loss: 0.0602 - sparse_categorical_accuracy: 0.9788 - val_loss: 0.0552 - val_sparse_categorical_accuracy: 0.9806\n",
      "Epoch 12/20\n",
      "217/217 [==============================] - 0s 2ms/step - loss: 0.0579 - sparse_categorical_accuracy: 0.9798 - val_loss: 0.0533 - val_sparse_categorical_accuracy: 0.9803\n",
      "Epoch 13/20\n",
      "217/217 [==============================] - 0s 2ms/step - loss: 0.0563 - sparse_categorical_accuracy: 0.9802 - val_loss: 0.0510 - val_sparse_categorical_accuracy: 0.9812\n",
      "Epoch 14/20\n",
      "217/217 [==============================] - 0s 2ms/step - loss: 0.0561 - sparse_categorical_accuracy: 0.9801 - val_loss: 0.0528 - val_sparse_categorical_accuracy: 0.9809\n",
      "Epoch 15/20\n",
      "217/217 [==============================] - 0s 2ms/step - loss: 0.0556 - sparse_categorical_accuracy: 0.9804 - val_loss: 0.0541 - val_sparse_categorical_accuracy: 0.9801\n",
      "Epoch 16/20\n",
      "217/217 [==============================] - 0s 2ms/step - loss: 0.0544 - sparse_categorical_accuracy: 0.9807 - val_loss: 0.0517 - val_sparse_categorical_accuracy: 0.9806\n",
      "Epoch 17/20\n",
      "217/217 [==============================] - 0s 2ms/step - loss: 0.0542 - sparse_categorical_accuracy: 0.9810 - val_loss: 0.0550 - val_sparse_categorical_accuracy: 0.9802\n",
      "Epoch 18/20\n",
      "217/217 [==============================] - 0s 2ms/step - loss: 0.0538 - sparse_categorical_accuracy: 0.9810 - val_loss: 0.0551 - val_sparse_categorical_accuracy: 0.9797\n",
      "Epoch 19/20\n",
      "217/217 [==============================] - 0s 2ms/step - loss: 0.0540 - sparse_categorical_accuracy: 0.9808 - val_loss: 0.0586 - val_sparse_categorical_accuracy: 0.9780\n",
      "Epoch 20/20\n",
      "217/217 [==============================] - 0s 2ms/step - loss: 0.0537 - sparse_categorical_accuracy: 0.9809 - val_loss: 0.0561 - val_sparse_categorical_accuracy: 0.9791\n"
     ]
    }
   ],
   "source": [
    "history = model.fit(\n",
    "    train_dataset, \n",
    "    validation_data=test_dataset, \n",
    "    epochs=20\n",
    ")"
   ]
  },
  {
   "cell_type": "code",
   "execution_count": 38,
   "metadata": {},
   "outputs": [
    {
     "data": {
      "text/plain": [
       "array([0., 3., 0., ..., 3., 0., 1.])"
      ]
     },
     "execution_count": 38,
     "metadata": {},
     "output_type": "execute_result"
    }
   ],
   "source": [
    "y_train"
   ]
  },
  {
   "cell_type": "code",
   "execution_count": 39,
   "metadata": {},
   "outputs": [
    {
     "data": {
      "text/plain": [
       "array([[-1.57442155,  3.65447138,  6.20964421,  9.7199759 , 10.32255621],\n",
       "       [ 6.21467155, -4.02388175,  1.45387188, 10.29425243,  5.47965276],\n",
       "       [ 0.79306326,  5.49059164,  6.84746149, 10.51498695,  8.91276603],\n",
       "       ...,\n",
       "       [ 4.0145821 , -0.90873002,  1.22263901, 10.77851359,  6.85825315],\n",
       "       [-0.34604713,  6.50190747,  5.85692918, 10.08920578, 11.78477637],\n",
       "       [ 0.11549312, -4.15694919,  1.96438559, 10.54794232,  5.19900223]])"
      ]
     },
     "execution_count": 39,
     "metadata": {},
     "output_type": "execute_result"
    }
   ],
   "source": [
    "x_train"
   ]
  },
  {
   "cell_type": "code",
   "execution_count": 40,
   "metadata": {},
   "outputs": [
    {
     "data": {
      "text/plain": [
       "<matplotlib.legend.Legend at 0x14b01e91320>"
      ]
     },
     "execution_count": 40,
     "metadata": {},
     "output_type": "execute_result"
    },
    {
     "data": {
      "image/png": "[encoded data removed]",
      "text/plain": [
       "<Figure size 432x288 with 1 Axes>"
      ]
     },
     "metadata": {
      "needs_background": "light"
     },
     "output_type": "display_data"
    }
   ],
   "source": [
    "plt.plot(history.history[\"loss\"],label=\"loss\")\n",
    "plt.plot(history.history[\"val_loss\"],label=\"val_loss\")\n",
    "plt.legend()"
   ]
  },
  {
   "cell_type": "code",
   "execution_count": 45,
   "metadata": {},
   "outputs": [],
   "source": [
    "model.save(\"base_model.h5\")"
   ]
  },
  {
   "cell_type": "markdown",
   "metadata": {},
   "source": [
    "## Construct an advanced model\n",
    "\n",
    "We add the class weights into the model, the weights are the 1-frequency of the labeled data. Then we use dropout method to prevent the overfitting and the rate of the dropout are 0.3 for the first layer and 0.1 for the next layer."
   ]
  },
  {
   "cell_type": "code",
   "execution_count": 41,
   "metadata": {},
   "outputs": [
    {
     "name": "stdout",
     "output_type": "stream",
     "text": [
      "0.0  |  25437\n",
      "1.0  |  10320\n",
      "2.0  |  1930\n",
      "3.0  |  30000\n"
     ]
    }
   ],
   "source": [
    "V, C = np.unique(data.loc[:,5], return_counts=True)\n",
    "\n",
    "class_weights = {}\n",
    "\n",
    "for v, c in zip(V, C):\n",
    "    prop = c / len(data.loc[:,5])\n",
    "    print(v, \" | \", c)\n",
    "    class_weights[v] = 1 - prop"
   ]
  },
  {
   "cell_type": "code",
   "execution_count": 42,
   "metadata": {},
   "outputs": [
    {
     "name": "stdout",
     "output_type": "stream",
     "text": [
      "Epoch 1/20\n",
      "217/217 [==============================] - 1s 5ms/step - loss: 0.3081 - sparse_categorical_accuracy: 0.9056 - val_loss: 0.0000e+00 - val_sparse_categorical_accuracy: 0.0000e+00\n",
      "Epoch 2/20\n",
      "217/217 [==============================] - 1s 3ms/step - loss: 0.1322 - sparse_categorical_accuracy: 0.9589 - val_loss: 0.0971 - val_sparse_categorical_accuracy: 0.9669\n",
      "Epoch 3/20\n",
      "217/217 [==============================] - 1s 3ms/step - loss: 0.1161 - sparse_categorical_accuracy: 0.9622 - val_loss: 0.0893 - val_sparse_categorical_accuracy: 0.9688\n",
      "Epoch 4/20\n",
      "217/217 [==============================] - 1s 3ms/step - loss: 0.1045 - sparse_categorical_accuracy: 0.9657 - val_loss: 0.0853 - val_sparse_categorical_accuracy: 0.9699\n",
      "Epoch 5/20\n",
      "217/217 [==============================] - 1s 3ms/step - loss: 0.0982 - sparse_categorical_accuracy: 0.9673 - val_loss: 0.0805 - val_sparse_categorical_accuracy: 0.9711\n",
      "Epoch 6/20\n",
      "217/217 [==============================] - 1s 3ms/step - loss: 0.0942 - sparse_categorical_accuracy: 0.9687 - val_loss: 0.0797 - val_sparse_categorical_accuracy: 0.9716\n",
      "Epoch 7/20\n",
      "217/217 [==============================] - 1s 3ms/step - loss: 0.0916 - sparse_categorical_accuracy: 0.9696 - val_loss: 0.0748 - val_sparse_categorical_accuracy: 0.9722\n",
      "Epoch 8/20\n",
      "217/217 [==============================] - 1s 3ms/step - loss: 0.0887 - sparse_categorical_accuracy: 0.9699 - val_loss: 0.0735 - val_sparse_categorical_accuracy: 0.9725\n",
      "Epoch 9/20\n",
      "217/217 [==============================] - 1s 3ms/step - loss: 0.0855 - sparse_categorical_accuracy: 0.9714 - val_loss: 0.0719 - val_sparse_categorical_accuracy: 0.9736\n",
      "Epoch 10/20\n",
      "217/217 [==============================] - 1s 3ms/step - loss: 0.0828 - sparse_categorical_accuracy: 0.9723 - val_loss: 0.0704 - val_sparse_categorical_accuracy: 0.9739\n",
      "Epoch 11/20\n",
      "217/217 [==============================] - 1s 3ms/step - loss: 0.0798 - sparse_categorical_accuracy: 0.9727 - val_loss: 0.0691 - val_sparse_categorical_accuracy: 0.9744\n",
      "Epoch 12/20\n",
      "217/217 [==============================] - 1s 3ms/step - loss: 0.0777 - sparse_categorical_accuracy: 0.9730 - val_loss: 0.0647 - val_sparse_categorical_accuracy: 0.9756\n",
      "Epoch 13/20\n",
      "217/217 [==============================] - 1s 3ms/step - loss: 0.0737 - sparse_categorical_accuracy: 0.9755 - val_loss: 0.0634 - val_sparse_categorical_accuracy: 0.9768\n",
      "Epoch 14/20\n",
      "217/217 [==============================] - 1s 3ms/step - loss: 0.0721 - sparse_categorical_accuracy: 0.9755 - val_loss: 0.0568 - val_sparse_categorical_accuracy: 0.9780\n",
      "Epoch 15/20\n",
      "217/217 [==============================] - 1s 3ms/step - loss: 0.0670 - sparse_categorical_accuracy: 0.9767 - val_loss: 0.0580 - val_sparse_categorical_accuracy: 0.9785\n",
      "Epoch 16/20\n",
      "217/217 [==============================] - 1s 3ms/step - loss: 0.0657 - sparse_categorical_accuracy: 0.9777 - val_loss: 0.0543 - val_sparse_categorical_accuracy: 0.9812\n",
      "Epoch 17/20\n",
      "217/217 [==============================] - 1s 3ms/step - loss: 0.0639 - sparse_categorical_accuracy: 0.9778 - val_loss: 0.0520 - val_sparse_categorical_accuracy: 0.9808\n",
      "Epoch 18/20\n",
      "217/217 [==============================] - 1s 3ms/step - loss: 0.0619 - sparse_categorical_accuracy: 0.9778 - val_loss: 0.0508 - val_sparse_categorical_accuracy: 0.9812\n",
      "Epoch 19/20\n",
      "217/217 [==============================] - 1s 3ms/step - loss: 0.0606 - sparse_categorical_accuracy: 0.9792 - val_loss: 0.0493 - val_sparse_categorical_accuracy: 0.9812\n",
      "Epoch 20/20\n",
      "217/217 [==============================] - 1s 3ms/step - loss: 0.0605 - sparse_categorical_accuracy: 0.9786 - val_loss: 0.0528 - val_sparse_categorical_accuracy: 0.9814\n"
     ]
    }
   ],
   "source": [
    "\n",
    "model2 = tf.keras.Sequential([\n",
    "    tf.keras.layers.Dense(128, input_shape=(5,)),\n",
    "    tf.keras.layers.Dropout(0.3),\n",
    "    tf.keras.layers.Dense(64, activation='relu'),\n",
    "    tf.keras.layers.Dropout(0.2),\n",
    "    tf.keras.layers.Dense(len(V), activation='softmax')\n",
    "])\n",
    "\n",
    "model2.compile(\n",
    "    optimizer=tf.keras.optimizers.Adam(),\n",
    "    loss=tf.keras.losses.SparseCategoricalCrossentropy(),\n",
    "    metrics=[tf.keras.metrics.SparseCategoricalAccuracy()]\n",
    ")\n",
    "history2 = model2.fit(\n",
    "    train_dataset, \n",
    "    validation_data=test_dataset,\n",
    "    class_weight = class_weights,\n",
    "    epochs=20\n",
    ")\n"
   ]
  },
  {
   "cell_type": "code",
   "execution_count": 33,
   "metadata": {},
   "outputs": [
    {
     "data": {
      "text/plain": [
       "<matplotlib.legend.Legend at 0x14b01a414e0>"
      ]
     },
     "execution_count": 33,
     "metadata": {},
     "output_type": "execute_result"
    },
    {
     "data": {
      "image/png": "[encoded data removed]",
      "text/plain": [
       "<Figure size 432x288 with 1 Axes>"
      ]
     },
     "metadata": {
      "needs_background": "light"
     },
     "output_type": "display_data"
    }
   ],
   "source": [
    "plt.plot(history2.history[\"loss\"],label=\"loss\")\n",
    "plt.plot(history2.history[\"val_loss\"],label=\"val_loss\")\n",
    "plt.legend()"
   ]
  },
  {
   "cell_type": "code",
   "execution_count": 46,
   "metadata": {},
   "outputs": [],
   "source": [
    "model2.save(\"advanced_model.h5\")"
   ]
  },
  {
   "cell_type": "markdown",
   "metadata": {},
   "source": [
    "## Conclusion\n",
    "\n",
    "From the results above, we can tell the final version of the basic model's accuracy in test set is 0.0561 and those of advanced model is 0.0528. The loss of the second model is little less than the first one and the curve of validation set loss in the second one is platten than the first one which means that the overfitting issue is settled partially. The following plot is the accuracy of the two models over training epochs."
   ]
  },
  {
   "cell_type": "code",
   "execution_count": 44,
   "metadata": {},
   "outputs": [
    {
     "data": {
      "text/plain": [
       "<matplotlib.legend.Legend at 0x14b7fc8a588>"
      ]
     },
     "execution_count": 44,
     "metadata": {},
     "output_type": "execute_result"
    },
    {
     "data": {
      "image/png": "[encoded data removed]",
      "text/plain": [
       "<Figure size 432x288 with 1 Axes>"
      ]
     },
     "metadata": {
      "needs_background": "light"
     },
     "output_type": "display_data"
    }
   ],
   "source": [
    "plt.plot(history.history[\"val_sparse_categorical_accuracy\"],label=\"model1_acc\")\n",
    "plt.plot(history2.history[\"val_sparse_categorical_accuracy\"],label=\"model2_acc\")\n",
    "plt.legend()"
   ]
  },
  {
   "cell_type": "markdown",
   "metadata": {},
   "source": [
    "If you want to load the model, you can just call the load_model function to read the h5 file"
   ]
  },
  {
   "cell_type": "code",
   "execution_count": 50,
   "metadata": {},
   "outputs": [],
   "source": [
    "model_loaded = load_model('advanced_model.h5')"
   ]
  },
  {
   "cell_type": "code",
   "execution_count": 52,
   "metadata": {},
   "outputs": [
    {
     "name": "stdout",
     "output_type": "stream",
     "text": [
      "<tensorflow.python.keras.engine.sequential.Sequential object at 0x0000014B7FBA34E0>\n"
     ]
    }
   ],
   "source": [
    "print(model_loaded)"
   ]
  },
  {
   "cell_type": "code",
   "execution_count": null,
   "metadata": {},
   "outputs": [],
   "source": []
  }
 ],
 "metadata": {
  "kernelspec": {
   "display_name": "Python 3",
   "language": "python",
   "name": "python3"
  },
  "language_info": {
   "codemirror_mode": {
    "name": "ipython",
    "version": 3
   },
   "file_extension": ".py",
   "mimetype": "text/x-python",
   "name": "python",
   "nbconvert_exporter": "python",
   "pygments_lexer": "ipython3",
   "version": "3.7.3"
  }
 },
 "nbformat": 4,
 "nbformat_minor": 4
}
