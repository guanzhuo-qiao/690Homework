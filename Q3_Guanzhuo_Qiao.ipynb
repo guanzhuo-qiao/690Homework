{
 "cells": [
  {
   "cell_type": "markdown",
   "metadata": {},
   "source": [
    "# Code Checks\n",
    "\n",
    "Fix any errors in the code and make the code function as in the description in the Part text."
   ]
  },
  {
   "cell_type": "code",
   "execution_count": null,
   "metadata": {},
   "outputs": [],
   "source": []
  },
  {
   "cell_type": "markdown",
   "metadata": {},
   "source": [
    "### Part 1\n",
    "\n",
    "This code should generate 100 random numbers between 0 and 1 and write them to a file `random_numbers.txt`"
   ]
  },
  {
   "cell_type": "code",
   "execution_count": 4,
   "metadata": {},
   "outputs": [],
   "source": [
    "import random\n",
    "\n",
    "with open(\"random_numbers.txt\", 'w') as F: # should use \"w\" to write the file\n",
    "    for _ in range(100):\n",
    "        F.writelines(str(random.random())) # random.random() to generate single random number"
   ]
  },
  {
   "cell_type": "markdown",
   "metadata": {},
   "source": []
  },
  {
   "cell_type": "markdown",
   "metadata": {},
   "source": [
    "### Part 2\n",
    "\n",
    "The code should create and compile a neural network model using TensorFlow Kera's Functional API."
   ]
  },
  {
   "cell_type": "code",
   "execution_count": 6,
   "metadata": {},
   "outputs": [],
   "source": [
    "import tensorflow as tf\n",
    "\n",
    "\n",
    "input_layer = tf.keras.Input(100) # Use \"Input\" as input layer defining.\n",
    "layer_00 = tf.keras.layers.Dense(256, activation='relu')(input_layer) # use \"Dense\" under \"layers\" and add the previous layer after the object\n",
    "layer_01 = tf.keras.layers.Dense(128, activation='softmax')(layer_00)\n",
    "\n",
    "model = tf.keras.Model(\n",
    "    inputs=input_layer, # parameter's name should be inputs and outputs\n",
    "    outputs=layer_01\n",
    ")\n",
    "\n",
    "model.compile(loss='sparse_categorical_crossentropy') # when compiling function, we should use at least \"loss\" parameter."
   ]
  },
  {
   "cell_type": "code",
   "execution_count": 8,
   "metadata": {},
   "outputs": [
    {
     "data": {
      "text/plain": [
       "'2.0.0'"
      ]
     },
     "execution_count": 8,
     "metadata": {},
     "output_type": "execute_result"
    }
   ],
   "source": [
    "tf.__version__"
   ]
  },
  {
   "cell_type": "code",
   "execution_count": null,
   "metadata": {},
   "outputs": [],
   "source": []
  }
 ],
 "metadata": {
  "kernelspec": {
   "display_name": "Python 3",
   "language": "python",
   "name": "python3"
  },
  "language_info": {
   "codemirror_mode": {
    "name": "ipython",
    "version": 3
   },
   "file_extension": ".py",
   "mimetype": "text/x-python",
   "name": "python",
   "nbconvert_exporter": "python",
   "pygments_lexer": "ipython3",
   "version": "3.7.3"
  }
 },
 "nbformat": 4,
 "nbformat_minor": 4
}
